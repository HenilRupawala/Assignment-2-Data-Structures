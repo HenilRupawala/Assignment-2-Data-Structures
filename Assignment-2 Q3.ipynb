{
 "cells": [
  {
   "cell_type": "code",
   "execution_count": 1,
   "id": "2db60be0-28ae-41f7-8612-3ea6f6f39664",
   "metadata": {},
   "outputs": [],
   "source": [
    "# Q3. How do you convert one data type to another in Python?"
   ]
  },
  {
   "cell_type": "markdown",
   "id": "e733f7ac-ba24-482a-b4c6-76795fe294cc",
   "metadata": {},
   "source": [
    "There are some inbuilt functions or methods like: int(), float(), str(), ord(), hex(), oct(), tuple(), set(), list(), dict(), etc. for the type casting in python."
   ]
  },
  {
   "cell_type": "markdown",
   "id": "d7843b7d-6286-4ae3-aecc-6b23bf3bd735",
   "metadata": {},
   "source": [
    "Example 1: Convert string into an integer."
   ]
  },
  {
   "cell_type": "code",
   "execution_count": 4,
   "id": "811ebf46-efe5-4ce0-a013-081ae46c0bf8",
   "metadata": {},
   "outputs": [
    {
     "ename": "TypeError",
     "evalue": "can only concatenate str (not \"int\") to str",
     "output_type": "error",
     "traceback": [
      "\u001b[0;31m---------------------------------------------------------------------------\u001b[0m",
      "\u001b[0;31mTypeError\u001b[0m                                 Traceback (most recent call last)",
      "Cell \u001b[0;32mIn[4], line 4\u001b[0m\n\u001b[1;32m      1\u001b[0m a \u001b[38;5;241m=\u001b[39m \u001b[38;5;124m'\u001b[39m\u001b[38;5;124m23\u001b[39m\u001b[38;5;124m'\u001b[39m\n\u001b[1;32m      2\u001b[0m b \u001b[38;5;241m=\u001b[39m \u001b[38;5;241m20\u001b[39m\n\u001b[0;32m----> 4\u001b[0m \u001b[43ma\u001b[49m\u001b[43m \u001b[49m\u001b[38;5;241;43m+\u001b[39;49m\u001b[43m \u001b[49m\u001b[43mb\u001b[49m\n",
      "\u001b[0;31mTypeError\u001b[0m: can only concatenate str (not \"int\") to str"
     ]
    }
   ],
   "source": [
    "a = '23'\n",
    "b = 20\n",
    "\n",
    "a + b"
   ]
  },
  {
   "cell_type": "markdown",
   "id": "d75e760d-88df-4625-b48e-1a1a820668b8",
   "metadata": {},
   "source": [
    "As you can see, It throws an error because Variable a stores 23 as a string and Variable b stores 20 as integer. So, we have to convert Variable a from string to integer simply using int() function."
   ]
  },
  {
   "cell_type": "code",
   "execution_count": 3,
   "id": "41769669-cc90-4507-931b-6b0ea24369f9",
   "metadata": {},
   "outputs": [
    {
     "data": {
      "text/plain": [
       "43"
      ]
     },
     "execution_count": 3,
     "metadata": {},
     "output_type": "execute_result"
    }
   ],
   "source": [
    "int(a) + b"
   ]
  },
  {
   "cell_type": "markdown",
   "id": "4e5e56a4-14e7-4217-b075-62b4e3a9d938",
   "metadata": {},
   "source": []
  },
  {
   "cell_type": "markdown",
   "id": "572cdf20-1359-404b-b421-4a1698fa267f",
   "metadata": {},
   "source": [
    "Example 2: Convert tuple into a set."
   ]
  },
  {
   "cell_type": "code",
   "execution_count": 58,
   "id": "e2cb659d-b3fa-4e27-af43-ca146b8c45a4",
   "metadata": {},
   "outputs": [
    {
     "data": {
      "text/plain": [
       "{2, 23.25, 4, 5, 'Henil', 'Rupawala'}"
      ]
     },
     "execution_count": 58,
     "metadata": {},
     "output_type": "execute_result"
    }
   ],
   "source": [
    "t = (2, 4, 5, \"Henil\", \"Rupawala\", 23.25)\n",
    "\n",
    "h = set(t)\n",
    "\n",
    "h"
   ]
  }
 ],
 "metadata": {
  "kernelspec": {
   "display_name": "Python 3 (ipykernel)",
   "language": "python",
   "name": "python3"
  },
  "language_info": {
   "codemirror_mode": {
    "name": "ipython",
    "version": 3
   },
   "file_extension": ".py",
   "mimetype": "text/x-python",
   "name": "python",
   "nbconvert_exporter": "python",
   "pygments_lexer": "ipython3",
   "version": "3.10.8"
  }
 },
 "nbformat": 4,
 "nbformat_minor": 5
}
