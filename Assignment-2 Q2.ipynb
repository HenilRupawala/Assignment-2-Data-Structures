{
 "cells": [
  {
   "cell_type": "markdown",
   "id": "9969dfde-3593-4971-9fb6-88c2de805c0c",
   "metadata": {},
   "source": [
    "Variable is like a container that holds different type of data. Very similar to how our containers in kitchen holds sugar, salt etc Creating a variable is like creating a placeholder in memory and assigning it some value. \n",
    "\n",
    "In Python its as easy as writing:"
   ]
  },
  {
   "cell_type": "code",
   "execution_count": 11,
   "id": "0370108f-db15-48a6-ac53-c153dfed5df9",
   "metadata": {},
   "outputs": [],
   "source": [
    "a = 1 #integer data type\n",
    "b = True #Boolean data type\n",
    "c = \"Harry\" #String data type\n",
    "d = 2+6j #Complex data type\n",
    "e = 1.2 #Float data type"
   ]
  },
  {
   "cell_type": "code",
   "execution_count": 2,
   "id": "179a348d-84a7-4a22-9554-b93b33dcd69f",
   "metadata": {},
   "outputs": [
    {
     "data": {
      "text/plain": [
       "1"
      ]
     },
     "execution_count": 2,
     "metadata": {},
     "output_type": "execute_result"
    }
   ],
   "source": [
    "a"
   ]
  },
  {
   "cell_type": "code",
   "execution_count": 3,
   "id": "d0bbec9c-bed2-4179-9955-91acd4e6f3fd",
   "metadata": {},
   "outputs": [
    {
     "data": {
      "text/plain": [
       "True"
      ]
     },
     "execution_count": 3,
     "metadata": {},
     "output_type": "execute_result"
    }
   ],
   "source": [
    "b"
   ]
  },
  {
   "cell_type": "code",
   "execution_count": 4,
   "id": "1cd71a0c-21e3-41a5-9374-7f0df9319d43",
   "metadata": {},
   "outputs": [
    {
     "data": {
      "text/plain": [
       "'Harry'"
      ]
     },
     "execution_count": 4,
     "metadata": {},
     "output_type": "execute_result"
    }
   ],
   "source": [
    "c"
   ]
  },
  {
   "cell_type": "code",
   "execution_count": 8,
   "id": "47344de2-ed6a-484e-bbce-63ce3ad42e20",
   "metadata": {},
   "outputs": [
    {
     "data": {
      "text/plain": [
       "(2+6j)"
      ]
     },
     "execution_count": 8,
     "metadata": {},
     "output_type": "execute_result"
    }
   ],
   "source": [
    "d"
   ]
  },
  {
   "cell_type": "code",
   "execution_count": 12,
   "id": "4fe2a5ae-9111-4ff5-b2b3-7684f8f2ce1a",
   "metadata": {},
   "outputs": [
    {
     "data": {
      "text/plain": [
       "1.2"
      ]
     },
     "execution_count": 12,
     "metadata": {},
     "output_type": "execute_result"
    }
   ],
   "source": [
    "e"
   ]
  }
 ],
 "metadata": {
  "kernelspec": {
   "display_name": "Python 3 (ipykernel)",
   "language": "python",
   "name": "python3"
  },
  "language_info": {
   "codemirror_mode": {
    "name": "ipython",
    "version": 3
   },
   "file_extension": ".py",
   "mimetype": "text/x-python",
   "name": "python",
   "nbconvert_exporter": "python",
   "pygments_lexer": "ipython3",
   "version": "3.10.8"
  }
 },
 "nbformat": 4,
 "nbformat_minor": 5
}
