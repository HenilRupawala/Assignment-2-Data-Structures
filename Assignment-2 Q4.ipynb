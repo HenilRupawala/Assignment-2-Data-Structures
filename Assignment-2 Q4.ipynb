{
 "cells": [
  {
   "cell_type": "markdown",
   "id": "2d591c7d-4c25-46bc-8f32-3730cc22ed51",
   "metadata": {},
   "source": [
    "First you have to ensure that python is installed in your PC.\n",
    "\n",
    "Second, Open notepad and write your code. Please ensure that file name has a .py extension otherwise it shows an error and it will not be executed. So, save the file with .py extension. For Example, Assignment-2Q4.py\n",
    "\n",
    "Third, Specify the full file path in the command line. For Example, D:\\Assignment-2\n",
    "\n",
    "Fourth, Now for execution you have to write python then space then file name as it is and then press Enter. For example, D:\\Assignment-2>python Assignment-2Q4.py\n",
    "\n",
    "This is how you can easily write and execute you Python script fro Command Line."
   ]
  }
 ],
 "metadata": {
  "kernelspec": {
   "display_name": "Python 3 (ipykernel)",
   "language": "python",
   "name": "python3"
  },
  "language_info": {
   "codemirror_mode": {
    "name": "ipython",
    "version": 3
   },
   "file_extension": ".py",
   "mimetype": "text/x-python",
   "name": "python",
   "nbconvert_exporter": "python",
   "pygments_lexer": "ipython3",
   "version": "3.10.8"
  }
 },
 "nbformat": 4,
 "nbformat_minor": 5
}
