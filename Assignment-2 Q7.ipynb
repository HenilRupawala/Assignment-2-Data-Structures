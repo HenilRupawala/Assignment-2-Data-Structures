{
 "cells": [
  {
   "cell_type": "code",
   "execution_count": 1,
   "id": "667b8b4f-afe6-46cf-a64e-2eab572a8813",
   "metadata": {},
   "outputs": [],
   "source": [
    "# Q7. What is the correct way to declare a variable named age and assign the value 25 to it?"
   ]
  },
  {
   "cell_type": "markdown",
   "id": "b69f6a67-df7e-4d24-a169-7bd46d5e0a6d",
   "metadata": {},
   "source": [
    "Variable name is one of the most important part of all the languages. Variable names should always belong to the which type of data you want to store.\n",
    "\n",
    "For Example, If you want to store first name, middle name and last name then your variable name should be f_name/first_name/FirstName, m_name/middle_name/MiddleName, l_name/last_name/LastName.\n",
    "\n",
    "Now, There are some rules you have to follow before declare any variable name.\n",
    "\n",
    "1. A variable name must start with a letter or the underscore character\n",
    "2. A variable name cannot start with a number\n",
    "3. A variable name can only contain alpha-numeric characters and underscores (A-z, 0-9, and _ )\n",
    "4. Variable names are case-sensitive (age, Age and AGE are three different variables)"
   ]
  },
  {
   "cell_type": "code",
   "execution_count": 2,
   "id": "2c294fe2-3e79-4ec2-9e1c-1db99a3b9e12",
   "metadata": {},
   "outputs": [],
   "source": [
    "age = 25"
   ]
  },
  {
   "cell_type": "code",
   "execution_count": 3,
   "id": "f575830f-ac54-47c7-9559-57a706109f5c",
   "metadata": {},
   "outputs": [],
   "source": [
    "Age = 25"
   ]
  },
  {
   "cell_type": "code",
   "execution_count": 4,
   "id": "f638174e-343d-4182-bb5a-559fa44fd456",
   "metadata": {},
   "outputs": [],
   "source": [
    "AGE = 25"
   ]
  },
  {
   "cell_type": "code",
   "execution_count": 5,
   "id": "08816f20-2a2d-460d-9bf3-bc72c9930685",
   "metadata": {},
   "outputs": [],
   "source": [
    "_age_ = 25"
   ]
  },
  {
   "cell_type": "markdown",
   "id": "9817d48d-c2f8-46ef-b02e-b1466432cdb7",
   "metadata": {},
   "source": [
    "This is how you can create a variable name by follow the above four rules."
   ]
  }
 ],
 "metadata": {
  "kernelspec": {
   "display_name": "Python 3 (ipykernel)",
   "language": "python",
   "name": "python3"
  },
  "language_info": {
   "codemirror_mode": {
    "name": "ipython",
    "version": 3
   },
   "file_extension": ".py",
   "mimetype": "text/x-python",
   "name": "python",
   "nbconvert_exporter": "python",
   "pygments_lexer": "ipython3",
   "version": "3.10.8"
  }
 },
 "nbformat": 4,
 "nbformat_minor": 5
}
