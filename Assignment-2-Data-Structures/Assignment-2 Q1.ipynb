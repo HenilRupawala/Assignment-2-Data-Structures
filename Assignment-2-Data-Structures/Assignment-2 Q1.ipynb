{
 "cells": [
  {
   "cell_type": "code",
   "execution_count": 3,
   "id": "c9ee74b3-3385-4b1e-afb7-b824c490e403",
   "metadata": {},
   "outputs": [
    {
     "data": {
      "text/plain": [
       "\" At many point, You have to Run your code without some part of your code just to check output.\\nAt that time, You have to select the code which you don't want to run then simply press (Ctrl + /)\\nAnd you see python automatically put the (#) at the beginnng of every line of code which you were selected. \""
      ]
     },
     "execution_count": 3,
     "metadata": {},
     "output_type": "execute_result"
    }
   ],
   "source": [
    "# Q1.1 How do you comment code in Python?\n",
    "# This is how i comment code in Python using (#) in the beginning of the line.\n",
    "\n",
    "''' At many point, You have to Run your code without some part of your code just to check output.\n",
    "At that time, You have to select the code which you don't want to run then simply press (Ctrl + /)\n",
    "And you see python automatically put the (#) at the beginnng of every line of code which you were selected. '''"
   ]
  },
  {
   "cell_type": "code",
   "execution_count": 1,
   "id": "0731f00f-d73a-4f1c-b532-28e6ec134c52",
   "metadata": {},
   "outputs": [],
   "source": [
    "# Q1.2 What are the different types of comments?"
   ]
  },
  {
   "cell_type": "markdown",
   "id": "90d5225c-a32e-4682-84f6-b02133e8af8a",
   "metadata": {},
   "source": [
    "Single-Line Comment : As you can see in above cell where we use (#) in the beginning of line. It's called Single-Line Comment.\n",
    "\n",
    "Multi-Line Comment : As you can see in first cell where we use (''') triple single quotation marks at the beginning and end of the paragraph. It's called Multi-Line Comment.\n",
    "                     You can also use a (\"\"\") triple double quotation marks.   "
   ]
  }
 ],
 "metadata": {
  "kernelspec": {
   "display_name": "Python 3 (ipykernel)",
   "language": "python",
   "name": "python3"
  },
  "language_info": {
   "codemirror_mode": {
    "name": "ipython",
    "version": 3
   },
   "file_extension": ".py",
   "mimetype": "text/x-python",
   "name": "python",
   "nbconvert_exporter": "python",
   "pygments_lexer": "ipython3",
   "version": "3.10.8"
  }
 },
 "nbformat": 4,
 "nbformat_minor": 5
}
