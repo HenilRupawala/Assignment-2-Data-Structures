{
 "cells": [
  {
   "cell_type": "code",
   "execution_count": 1,
   "id": "6ad072d9-331b-41f7-bab2-ca01e3793dc8",
   "metadata": {},
   "outputs": [],
   "source": [
    "# Q8. Declare a variable named price and assign the value 9.99 to it. What data type does this variable belong to?"
   ]
  },
  {
   "cell_type": "code",
   "execution_count": 2,
   "id": "5e85d566-a762-47a5-a828-7e680d105104",
   "metadata": {},
   "outputs": [
    {
     "data": {
      "text/plain": [
       "float"
      ]
     },
     "execution_count": 2,
     "metadata": {},
     "output_type": "execute_result"
    }
   ],
   "source": [
    "price = 9.99\n",
    "\n",
    "type(price)"
   ]
  },
  {
   "cell_type": "markdown",
   "id": "173e2dc6-8a38-405f-921d-37ba1a7c7195",
   "metadata": {},
   "source": [
    "This variable belongs to the float data type."
   ]
  }
 ],
 "metadata": {
  "kernelspec": {
   "display_name": "Python 3 (ipykernel)",
   "language": "python",
   "name": "python3"
  },
  "language_info": {
   "codemirror_mode": {
    "name": "ipython",
    "version": 3
   },
   "file_extension": ".py",
   "mimetype": "text/x-python",
   "name": "python",
   "nbconvert_exporter": "python",
   "pygments_lexer": "ipython3",
   "version": "3.10.8"
  }
 },
 "nbformat": 4,
 "nbformat_minor": 5
}
