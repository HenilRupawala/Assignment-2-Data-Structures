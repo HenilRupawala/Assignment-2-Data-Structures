{
 "cells": [
  {
   "cell_type": "code",
   "execution_count": 1,
   "id": "cd1d893e-2310-42c9-951b-520e8cda30d2",
   "metadata": {},
   "outputs": [],
   "source": [
    "# Q6. What is a complex number in mathematics, and how is it represented in Python?"
   ]
  },
  {
   "cell_type": "markdown",
   "id": "f39ccce8-a8f9-45c6-a078-4b82e837c720",
   "metadata": {},
   "source": [
    "A complex number is a number of the form 'f + hi', where 'f' and 'h' are real numbers, and 'i' is an indeterminate satisfying i^2 = −1. For example, 42 + 56i is a complex number.\n",
    "\n",
    "The real number 'f' is called the real part of the complex number f + hi; the real number 'h' is called its imaginary part. To emphasize, the imaginary part does not include a factor 'i'; that is, the imaginary part is 'b', not 'bi'."
   ]
  },
  {
   "cell_type": "markdown",
   "id": "01310329-8d2b-43c7-bf21-fe648e1f67b3",
   "metadata": {},
   "source": [
    "In Python, Complex number is represented by 'f + hj'. So, it is same as mathematics but only difference is imaginary number. In Python, we use 'j' instead of 'i'."
   ]
  },
  {
   "cell_type": "code",
   "execution_count": 8,
   "id": "9015a9d2-7528-4376-9061-1b1c847fd27f",
   "metadata": {},
   "outputs": [
    {
     "data": {
      "text/plain": [
       "(42+56j)"
      ]
     },
     "execution_count": 8,
     "metadata": {},
     "output_type": "execute_result"
    }
   ],
   "source": [
    "a = 42 + 56j\n",
    "\n",
    "a"
   ]
  },
  {
   "cell_type": "code",
   "execution_count": 10,
   "id": "431cf3a2-689d-4082-b223-f754089ae7bb",
   "metadata": {},
   "outputs": [
    {
     "data": {
      "text/plain": [
       "complex"
      ]
     },
     "execution_count": 10,
     "metadata": {},
     "output_type": "execute_result"
    }
   ],
   "source": [
    "type(a)"
   ]
  },
  {
   "cell_type": "code",
   "execution_count": 11,
   "id": "79f6697c-ff40-4335-b8b6-f6738e4966a8",
   "metadata": {},
   "outputs": [
    {
     "data": {
      "text/plain": [
       "42.0"
      ]
     },
     "execution_count": 11,
     "metadata": {},
     "output_type": "execute_result"
    }
   ],
   "source": [
    "a.real"
   ]
  },
  {
   "cell_type": "code",
   "execution_count": 12,
   "id": "004d2d5b-de51-4174-9642-6c87f0b0bb1f",
   "metadata": {},
   "outputs": [
    {
     "data": {
      "text/plain": [
       "56.0"
      ]
     },
     "execution_count": 12,
     "metadata": {},
     "output_type": "execute_result"
    }
   ],
   "source": [
    "a.imag"
   ]
  }
 ],
 "metadata": {
  "kernelspec": {
   "display_name": "Python 3 (ipykernel)",
   "language": "python",
   "name": "python3"
  },
  "language_info": {
   "codemirror_mode": {
    "name": "ipython",
    "version": 3
   },
   "file_extension": ".py",
   "mimetype": "text/x-python",
   "name": "python",
   "nbconvert_exporter": "python",
   "pygments_lexer": "ipython3",
   "version": "3.10.8"
  }
 },
 "nbformat": 4,
 "nbformat_minor": 5
}
