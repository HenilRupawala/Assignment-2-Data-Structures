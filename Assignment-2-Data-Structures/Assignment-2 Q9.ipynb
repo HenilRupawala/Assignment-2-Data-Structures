{
 "cells": [
  {
   "cell_type": "code",
   "execution_count": 1,
   "id": "9e77eee4-68e1-43dc-95d9-95941a97652e",
   "metadata": {},
   "outputs": [],
   "source": [
    "# Q9. Create a variable named name and assign your full name to it as a string. How would you print the value of this variable?"
   ]
  },
  {
   "cell_type": "code",
   "execution_count": 2,
   "id": "a6fb5244-f28f-4d40-a48f-3fe0f9b39b51",
   "metadata": {},
   "outputs": [
    {
     "name": "stdout",
     "output_type": "stream",
     "text": [
      "Henil Rupawala\n"
     ]
    }
   ],
   "source": [
    "name = 'Henil Rupawala'\n",
    "\n",
    "print(name)"
   ]
  },
  {
   "cell_type": "markdown",
   "id": "517d834d-872c-460a-bcbf-0b2d7f96ed12",
   "metadata": {},
   "source": [
    "This is how we use the print() function to get the output or data stored in a variable."
   ]
  }
 ],
 "metadata": {
  "kernelspec": {
   "display_name": "Python 3 (ipykernel)",
   "language": "python",
   "name": "python3"
  },
  "language_info": {
   "codemirror_mode": {
    "name": "ipython",
    "version": 3
   },
   "file_extension": ".py",
   "mimetype": "text/x-python",
   "name": "python",
   "nbconvert_exporter": "python",
   "pygments_lexer": "ipython3",
   "version": "3.10.8"
  }
 },
 "nbformat": 4,
 "nbformat_minor": 5
}
